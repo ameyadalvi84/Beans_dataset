{
  "nbformat": 4,
  "nbformat_minor": 0,
  "metadata": {
    "colab": {
      "name": "Beans_dataset_tf.ipynb",
      "provenance": [],
      "collapsed_sections": [],
      "authorship_tag": "ABX9TyOm+meAp9ATZYNDywnnyLOd",
      "include_colab_link": true
    },
    "kernelspec": {
      "name": "python3",
      "display_name": "Python 3"
    },
    "accelerator": "GPU"
  },
  "cells": [
    {
      "cell_type": "markdown",
      "metadata": {
        "id": "view-in-github",
        "colab_type": "text"
      },
      "source": [
        "<a href=\"https://colab.research.google.com/github/ameyadalvi84/Beans_dataset/blob/master/Beans_dataset_tf.ipynb\" target=\"_parent\"><img src=\"https://colab.research.google.com/assets/colab-badge.svg\" alt=\"Open In Colab\"/></a>"
      ]
    },
    {
      "cell_type": "markdown",
      "metadata": {
        "id": "XfR96TIl76d1",
        "colab_type": "text"
      },
      "source": [
        "Beans data set from tensoflow"
      ]
    },
    {
      "cell_type": "code",
      "metadata": {
        "id": "UohzKwa28Bce",
        "colab_type": "code",
        "colab": {}
      },
      "source": [
        "import tensorflow as tf\n",
        "import tensorflow.keras as K\n",
        "import numpy as np\n",
        "import pandas as pd\n",
        "from tensorflow.keras import models, layers\n",
        "from tensorflow.keras.utils import to_categorical\n",
        "import matplotlib.pyplot as plt\n",
        "import seaborn as sns\n",
        "import tensorflow_datasets as tfds\n",
        "from tensorflow.keras import regularizers"
      ],
      "execution_count": 53,
      "outputs": []
    },
    {
      "cell_type": "code",
      "metadata": {
        "id": "yySSKpqe-JfA",
        "colab_type": "code",
        "colab": {}
      },
      "source": [
        "from google.colab import drive\n",
        "drive.mount('/content/drive')"
      ],
      "execution_count": null,
      "outputs": []
    },
    {
      "cell_type": "code",
      "metadata": {
        "id": "fqsUzP6Q741_",
        "colab_type": "code",
        "colab": {}
      },
      "source": [
        "%matplotlib inline\n",
        "sns.set_style(\"whitegrid\")"
      ],
      "execution_count": 54,
      "outputs": []
    },
    {
      "cell_type": "code",
      "metadata": {
        "id": "h2zge2QbiIqX",
        "colab_type": "code",
        "colab": {
          "base_uri": "https://localhost:8080/",
          "height": 50
        },
        "outputId": "f46c0fcf-9505-48dc-f1a8-36aa9f585385"
      },
      "source": [
        "from tensorflow.keras.preprocessing.image import ImageDataGenerator\n",
        "batch_size = 32\n",
        "target = (150,150)\n",
        "#train_images.max()\n",
        "#train_images.min()\n",
        "train_datagen = ImageDataGenerator(rescale= 1/255.,\n",
        "                                   height_shift_range = 2.0,\n",
        "                                   width_shift_range = 2.0,\n",
        "                                   rotation_range = 40,\n",
        "                                   shear_range = 2.0,\n",
        "                                   zoom_range = 2.0,\n",
        "                                   horizontal_flip = True,\n",
        "                                   vertical_flip = True,\n",
        "                                   fill_mode = 'nearest')\n",
        "test_datagen = ImageDataGenerator(rescale=1/255.)\n",
        "train_generator = train_datagen.flow_from_directory('/tmp/Train/',\n",
        "                                batch_size=batch_size,\n",
        "                                target_size=target)\n",
        "validation_generator = test_datagen.flow_from_directory('/tmp/Validation/',\n",
        "                                    target_size = target)"
      ],
      "execution_count": 55,
      "outputs": [
        {
          "output_type": "stream",
          "text": [
            "Found 1034 images belonging to 4 classes.\n",
            "Found 133 images belonging to 4 classes.\n"
          ],
          "name": "stdout"
        }
      ]
    },
    {
      "cell_type": "code",
      "metadata": {
        "id": "O0t5andnK9Rf",
        "colab_type": "code",
        "colab": {}
      },
      "source": [
        "from tensorflow.keras.applications import VGG16,ResNet50,InceptionV3"
      ],
      "execution_count": 56,
      "outputs": []
    },
    {
      "cell_type": "code",
      "metadata": {
        "id": "t8NYWBwwV1tW",
        "colab_type": "code",
        "colab": {}
      },
      "source": [
        "conv_base = VGG16(weights = 'imagenet',\n",
        "                  include_top = False,\n",
        "                  input_shape = (150,150,3))\n",
        "#conv_base.trainable = False\n",
        "\n",
        "#ResNet50\n",
        "#conv_base = ResNet50(weights = 'imagenet',\n",
        "#                  include_top = False,\n",
        "#                  input_shape = (128,128,3))\n",
        "conv_base.trainable = False"
      ],
      "execution_count": 57,
      "outputs": []
    },
    {
      "cell_type": "code",
      "metadata": {
        "id": "hVZM3IqqWDp3",
        "colab_type": "code",
        "colab": {
          "base_uri": "https://localhost:8080/",
          "height": 790
        },
        "outputId": "f9c2b1d7-e178-4473-ee15-938cd3851336"
      },
      "source": [
        "conv_base.summary()"
      ],
      "execution_count": 58,
      "outputs": [
        {
          "output_type": "stream",
          "text": [
            "Model: \"vgg16\"\n",
            "_________________________________________________________________\n",
            "Layer (type)                 Output Shape              Param #   \n",
            "=================================================================\n",
            "input_7 (InputLayer)         [(None, 150, 150, 3)]     0         \n",
            "_________________________________________________________________\n",
            "block1_conv1 (Conv2D)        (None, 150, 150, 64)      1792      \n",
            "_________________________________________________________________\n",
            "block1_conv2 (Conv2D)        (None, 150, 150, 64)      36928     \n",
            "_________________________________________________________________\n",
            "block1_pool (MaxPooling2D)   (None, 75, 75, 64)        0         \n",
            "_________________________________________________________________\n",
            "block2_conv1 (Conv2D)        (None, 75, 75, 128)       73856     \n",
            "_________________________________________________________________\n",
            "block2_conv2 (Conv2D)        (None, 75, 75, 128)       147584    \n",
            "_________________________________________________________________\n",
            "block2_pool (MaxPooling2D)   (None, 37, 37, 128)       0         \n",
            "_________________________________________________________________\n",
            "block3_conv1 (Conv2D)        (None, 37, 37, 256)       295168    \n",
            "_________________________________________________________________\n",
            "block3_conv2 (Conv2D)        (None, 37, 37, 256)       590080    \n",
            "_________________________________________________________________\n",
            "block3_conv3 (Conv2D)        (None, 37, 37, 256)       590080    \n",
            "_________________________________________________________________\n",
            "block3_pool (MaxPooling2D)   (None, 18, 18, 256)       0         \n",
            "_________________________________________________________________\n",
            "block4_conv1 (Conv2D)        (None, 18, 18, 512)       1180160   \n",
            "_________________________________________________________________\n",
            "block4_conv2 (Conv2D)        (None, 18, 18, 512)       2359808   \n",
            "_________________________________________________________________\n",
            "block4_conv3 (Conv2D)        (None, 18, 18, 512)       2359808   \n",
            "_________________________________________________________________\n",
            "block4_pool (MaxPooling2D)   (None, 9, 9, 512)         0         \n",
            "_________________________________________________________________\n",
            "block5_conv1 (Conv2D)        (None, 9, 9, 512)         2359808   \n",
            "_________________________________________________________________\n",
            "block5_conv2 (Conv2D)        (None, 9, 9, 512)         2359808   \n",
            "_________________________________________________________________\n",
            "block5_conv3 (Conv2D)        (None, 9, 9, 512)         2359808   \n",
            "_________________________________________________________________\n",
            "block5_pool (MaxPooling2D)   (None, 4, 4, 512)         0         \n",
            "=================================================================\n",
            "Total params: 14,714,688\n",
            "Trainable params: 0\n",
            "Non-trainable params: 14,714,688\n",
            "_________________________________________________________________\n"
          ],
          "name": "stdout"
        }
      ]
    },
    {
      "cell_type": "code",
      "metadata": {
        "id": "n9rTB_IxWEeB",
        "colab_type": "code",
        "colab": {}
      },
      "source": [
        "def build_model():\n",
        "  model=models.Sequential()\n",
        "  model.add(conv_base)\n",
        "  model.add(layers.Flatten())\n",
        "  model.add(layers.Dense(128,activation='relu'))\n",
        "  model.add(layers.Dropout(0.4))\n",
        "  model.add(layers.Dense(4,activation='softmax'))\n",
        "  return model"
      ],
      "execution_count": 59,
      "outputs": []
    },
    {
      "cell_type": "code",
      "metadata": {
        "id": "deJtvHG7XAtc",
        "colab_type": "code",
        "colab": {}
      },
      "source": [
        "np.random.seed(1234)\n",
        "model1 = build_model()\n",
        "model1.compile(optimizer = tf.keras.optimizers.Adam(learning_rate=5e-4),loss = 'categorical_crossentropy',\n",
        "               metrics = ['accuracy'])"
      ],
      "execution_count": 70,
      "outputs": []
    },
    {
      "cell_type": "code",
      "metadata": {
        "id": "p5MLi-kPXkt8",
        "colab_type": "code",
        "colab": {
          "base_uri": "https://localhost:8080/",
          "height": 1000
        },
        "outputId": "96b5d3d9-0ad5-4d4a-f923-a2f932cca42a"
      },
      "source": [
        "history1 = model1.fit(train_generator,\n",
        "                      steps_per_epoch = 1034 // batch_size,\n",
        "                      batch_size = batch_size,\n",
        "                      epochs = 50,\n",
        "                      validation_data = validation_generator)"
      ],
      "execution_count": 71,
      "outputs": [
        {
          "output_type": "stream",
          "text": [
            "Epoch 1/50\n",
            "32/32 [==============================] - 14s 434ms/step - loss: 1.2681 - accuracy: 0.3743 - val_loss: 0.9315 - val_accuracy: 0.5789\n",
            "Epoch 2/50\n",
            "32/32 [==============================] - 14s 428ms/step - loss: 0.9805 - accuracy: 0.5050 - val_loss: 0.7575 - val_accuracy: 0.7218\n",
            "Epoch 3/50\n",
            "32/32 [==============================] - 14s 425ms/step - loss: 0.9571 - accuracy: 0.5319 - val_loss: 0.9316 - val_accuracy: 0.5564\n",
            "Epoch 4/50\n",
            "32/32 [==============================] - 14s 426ms/step - loss: 0.9340 - accuracy: 0.5399 - val_loss: 0.6805 - val_accuracy: 0.7519\n",
            "Epoch 5/50\n",
            "32/32 [==============================] - 14s 424ms/step - loss: 0.9063 - accuracy: 0.5539 - val_loss: 0.7549 - val_accuracy: 0.6842\n",
            "Epoch 6/50\n",
            "32/32 [==============================] - 14s 425ms/step - loss: 0.8716 - accuracy: 0.5778 - val_loss: 0.6729 - val_accuracy: 0.7293\n",
            "Epoch 7/50\n",
            "32/32 [==============================] - 14s 428ms/step - loss: 0.8854 - accuracy: 0.5599 - val_loss: 0.6756 - val_accuracy: 0.7368\n",
            "Epoch 8/50\n",
            "32/32 [==============================] - 14s 426ms/step - loss: 0.9027 - accuracy: 0.5579 - val_loss: 0.6761 - val_accuracy: 0.6992\n",
            "Epoch 9/50\n",
            "32/32 [==============================] - 14s 429ms/step - loss: 0.8520 - accuracy: 0.5749 - val_loss: 0.6623 - val_accuracy: 0.7218\n",
            "Epoch 10/50\n",
            "32/32 [==============================] - 14s 427ms/step - loss: 0.8354 - accuracy: 0.6008 - val_loss: 0.6619 - val_accuracy: 0.6917\n",
            "Epoch 11/50\n",
            "32/32 [==============================] - 14s 428ms/step - loss: 0.8483 - accuracy: 0.5838 - val_loss: 0.6224 - val_accuracy: 0.7444\n",
            "Epoch 12/50\n",
            "32/32 [==============================] - 14s 430ms/step - loss: 0.8398 - accuracy: 0.6138 - val_loss: 0.6669 - val_accuracy: 0.6617\n",
            "Epoch 13/50\n",
            "32/32 [==============================] - 14s 425ms/step - loss: 0.8109 - accuracy: 0.6078 - val_loss: 0.6789 - val_accuracy: 0.6541\n",
            "Epoch 14/50\n",
            "32/32 [==============================] - 14s 423ms/step - loss: 0.8068 - accuracy: 0.6248 - val_loss: 0.6784 - val_accuracy: 0.6466\n",
            "Epoch 15/50\n",
            "32/32 [==============================] - 14s 425ms/step - loss: 0.8142 - accuracy: 0.6178 - val_loss: 0.6342 - val_accuracy: 0.7444\n",
            "Epoch 16/50\n",
            "32/32 [==============================] - 14s 425ms/step - loss: 0.7938 - accuracy: 0.6377 - val_loss: 0.6394 - val_accuracy: 0.7143\n",
            "Epoch 17/50\n",
            "32/32 [==============================] - 14s 423ms/step - loss: 0.8229 - accuracy: 0.6088 - val_loss: 0.5998 - val_accuracy: 0.7820\n",
            "Epoch 18/50\n",
            "32/32 [==============================] - 14s 425ms/step - loss: 0.8231 - accuracy: 0.6108 - val_loss: 0.6041 - val_accuracy: 0.7744\n",
            "Epoch 19/50\n",
            "32/32 [==============================] - 14s 426ms/step - loss: 0.7871 - accuracy: 0.6248 - val_loss: 0.6224 - val_accuracy: 0.6692\n",
            "Epoch 20/50\n",
            "32/32 [==============================] - 14s 428ms/step - loss: 0.8027 - accuracy: 0.6168 - val_loss: 0.6053 - val_accuracy: 0.7669\n",
            "Epoch 21/50\n",
            "32/32 [==============================] - 14s 424ms/step - loss: 0.7879 - accuracy: 0.6238 - val_loss: 0.5829 - val_accuracy: 0.7519\n",
            "Epoch 22/50\n",
            "32/32 [==============================] - 14s 434ms/step - loss: 0.7885 - accuracy: 0.6337 - val_loss: 0.5758 - val_accuracy: 0.7594\n",
            "Epoch 23/50\n",
            "32/32 [==============================] - 14s 427ms/step - loss: 0.8106 - accuracy: 0.6198 - val_loss: 0.6176 - val_accuracy: 0.7444\n",
            "Epoch 24/50\n",
            "32/32 [==============================] - 14s 428ms/step - loss: 0.8077 - accuracy: 0.6218 - val_loss: 0.6323 - val_accuracy: 0.7594\n",
            "Epoch 25/50\n",
            "32/32 [==============================] - 14s 428ms/step - loss: 0.7643 - accuracy: 0.6457 - val_loss: 0.5880 - val_accuracy: 0.7669\n",
            "Epoch 26/50\n",
            "32/32 [==============================] - 14s 427ms/step - loss: 0.7643 - accuracy: 0.6577 - val_loss: 0.6136 - val_accuracy: 0.7820\n",
            "Epoch 27/50\n",
            "32/32 [==============================] - 14s 428ms/step - loss: 0.7865 - accuracy: 0.6297 - val_loss: 0.6846 - val_accuracy: 0.7068\n",
            "Epoch 28/50\n",
            "32/32 [==============================] - 14s 425ms/step - loss: 0.7592 - accuracy: 0.6447 - val_loss: 0.5866 - val_accuracy: 0.7293\n",
            "Epoch 29/50\n",
            "32/32 [==============================] - 14s 428ms/step - loss: 0.7917 - accuracy: 0.6417 - val_loss: 0.5714 - val_accuracy: 0.7368\n",
            "Epoch 30/50\n",
            "32/32 [==============================] - 14s 427ms/step - loss: 0.7367 - accuracy: 0.6737 - val_loss: 0.5546 - val_accuracy: 0.7744\n",
            "Epoch 31/50\n",
            "32/32 [==============================] - 14s 437ms/step - loss: 0.7659 - accuracy: 0.6557 - val_loss: 0.5495 - val_accuracy: 0.7820\n",
            "Epoch 32/50\n",
            "32/32 [==============================] - 14s 426ms/step - loss: 0.7623 - accuracy: 0.6537 - val_loss: 0.5854 - val_accuracy: 0.7444\n",
            "Epoch 33/50\n",
            "32/32 [==============================] - 14s 428ms/step - loss: 0.7578 - accuracy: 0.6597 - val_loss: 0.5295 - val_accuracy: 0.7895\n",
            "Epoch 34/50\n",
            "32/32 [==============================] - 14s 432ms/step - loss: 0.7602 - accuracy: 0.6547 - val_loss: 0.6323 - val_accuracy: 0.7519\n",
            "Epoch 35/50\n",
            "32/32 [==============================] - 14s 426ms/step - loss: 0.7691 - accuracy: 0.6487 - val_loss: 0.5531 - val_accuracy: 0.8045\n",
            "Epoch 36/50\n",
            "32/32 [==============================] - 14s 429ms/step - loss: 0.7730 - accuracy: 0.6307 - val_loss: 0.5187 - val_accuracy: 0.8045\n",
            "Epoch 37/50\n",
            "32/32 [==============================] - 14s 427ms/step - loss: 0.7431 - accuracy: 0.6597 - val_loss: 0.5560 - val_accuracy: 0.7594\n",
            "Epoch 38/50\n",
            "32/32 [==============================] - 14s 428ms/step - loss: 0.7270 - accuracy: 0.6717 - val_loss: 0.5388 - val_accuracy: 0.7895\n",
            "Epoch 39/50\n",
            "32/32 [==============================] - 14s 425ms/step - loss: 0.7151 - accuracy: 0.6717 - val_loss: 0.5300 - val_accuracy: 0.7895\n",
            "Epoch 40/50\n",
            "32/32 [==============================] - 14s 427ms/step - loss: 0.7307 - accuracy: 0.6786 - val_loss: 0.5756 - val_accuracy: 0.7669\n",
            "Epoch 41/50\n",
            "32/32 [==============================] - 14s 428ms/step - loss: 0.7430 - accuracy: 0.6657 - val_loss: 0.5659 - val_accuracy: 0.7594\n",
            "Epoch 42/50\n",
            "32/32 [==============================] - 14s 428ms/step - loss: 0.7421 - accuracy: 0.6602 - val_loss: 0.5125 - val_accuracy: 0.7594\n",
            "Epoch 43/50\n",
            "32/32 [==============================] - 14s 429ms/step - loss: 0.7377 - accuracy: 0.6747 - val_loss: 0.5426 - val_accuracy: 0.7970\n",
            "Epoch 44/50\n",
            "32/32 [==============================] - 14s 425ms/step - loss: 0.7630 - accuracy: 0.6427 - val_loss: 0.5185 - val_accuracy: 0.7820\n",
            "Epoch 45/50\n",
            "32/32 [==============================] - 14s 427ms/step - loss: 0.7440 - accuracy: 0.6637 - val_loss: 0.5414 - val_accuracy: 0.7820\n",
            "Epoch 46/50\n",
            "32/32 [==============================] - 14s 432ms/step - loss: 0.7337 - accuracy: 0.6738 - val_loss: 0.5682 - val_accuracy: 0.7519\n",
            "Epoch 47/50\n",
            "32/32 [==============================] - 14s 428ms/step - loss: 0.7042 - accuracy: 0.6896 - val_loss: 0.5349 - val_accuracy: 0.7820\n",
            "Epoch 48/50\n",
            "32/32 [==============================] - 14s 426ms/step - loss: 0.7458 - accuracy: 0.6527 - val_loss: 0.5376 - val_accuracy: 0.7744\n",
            "Epoch 49/50\n",
            "32/32 [==============================] - 14s 429ms/step - loss: 0.7412 - accuracy: 0.6567 - val_loss: 0.5844 - val_accuracy: 0.7594\n",
            "Epoch 50/50\n",
            "32/32 [==============================] - 14s 428ms/step - loss: 0.7160 - accuracy: 0.6836 - val_loss: 0.5499 - val_accuracy: 0.7820\n"
          ],
          "name": "stdout"
        }
      ]
    },
    {
      "cell_type": "code",
      "metadata": {
        "id": "kHg8CfKuYIsT",
        "colab_type": "code",
        "colab": {
          "base_uri": "https://localhost:8080/",
          "height": 34
        },
        "outputId": "d8961c92-ab73-4611-821b-cd0cf9598e49"
      },
      "source": [
        "history1_dict = history1.history\n",
        "history1_dict.keys()"
      ],
      "execution_count": 72,
      "outputs": [
        {
          "output_type": "execute_result",
          "data": {
            "text/plain": [
              "dict_keys(['loss', 'accuracy', 'val_loss', 'val_accuracy'])"
            ]
          },
          "metadata": {
            "tags": []
          },
          "execution_count": 72
        }
      ]
    },
    {
      "cell_type": "code",
      "metadata": {
        "id": "goGJquRgYRHe",
        "colab_type": "code",
        "colab": {
          "base_uri": "https://localhost:8080/",
          "height": 577
        },
        "outputId": "2b18ce28-9a74-4177-9e58-a5e5de674e6b"
      },
      "source": [
        "val_loss1 = history1_dict['val_loss']\n",
        "val_acc1 = history1_dict['val_accuracy']\n",
        "loss1 = history1_dict['loss']\n",
        "acc1 = history1_dict['accuracy']\n",
        "epoch_num = range(1,len(acc1)+1)\n",
        "\n",
        "plt.plot(epoch_num,acc1,'k--',label = \"Training Accuracy\")\n",
        "plt.plot(epoch_num,val_acc1,'r:',label=\"Validation Accuracy\")\n",
        "plt.xlabel(\"Epochs\")\n",
        "plt.ylabel(\"Accuracy\")\n",
        "plt.title(\"Training Vs Validation Accuracy\")\n",
        "plt.legend()\n",
        "plt.tight_layout()\n",
        "\n",
        "plt.figure()\n",
        "plt.plot(epoch_num,loss1,'k--',label = \"Training Loss\")\n",
        "plt.plot(epoch_num,val_loss1,'r:',label=\"Validation Loss\")\n",
        "plt.xlabel(\"Epochs\")\n",
        "plt.ylabel(\"Loss\")\n",
        "plt.title(\"Training Vs Validation Loss\")\n",
        "plt.legend()\n",
        "plt.tight_layout()\n",
        "\n",
        "plt.show()"
      ],
      "execution_count": 73,
      "outputs": [
        {
          "output_type": "display_data",
          "data": {
            "image/png": "[encoded data removed]",
            "text/plain": [
              "<Figure size 432x288 with 1 Axes>"
            ]
          },
          "metadata": {
            "tags": []
          }
        },
        {
          "output_type": "display_data",
          "data": {
            "image/png": "[encoded data removed]",
            "text/plain": [
              "<Figure size 432x288 with 1 Axes>"
            ]
          },
          "metadata": {
            "tags": []
          }
        }
      ]
    },
    {
      "cell_type": "code",
      "metadata": {
        "id": "fAQf1siPq3ts",
        "colab_type": "code",
        "colab": {
          "base_uri": "https://localhost:8080/",
          "height": 34
        },
        "outputId": "3ee944e2-5d8a-4ce8-c540-092894ef4e95"
      },
      "source": [
        "test_generator = test_datagen.flow_from_directory('/tmp/Test',target_size = target)"
      ],
      "execution_count": 74,
      "outputs": [
        {
          "output_type": "stream",
          "text": [
            "Found 128 images belonging to 4 classes.\n"
          ],
          "name": "stdout"
        }
      ]
    },
    {
      "cell_type": "code",
      "metadata": {
        "id": "sEfQCLrygIh4",
        "colab_type": "code",
        "colab": {
          "base_uri": "https://localhost:8080/",
          "height": 34
        },
        "outputId": "ac4c8147-7a12-402b-f1a6-e61c0c644e3d"
      },
      "source": [
        "result1 = model1.evaluate_generator(test_generator)\n",
        "result1"
      ],
      "execution_count": 75,
      "outputs": [
        {
          "output_type": "execute_result",
          "data": {
            "text/plain": [
              "[0.5112929344177246, 0.78125]"
            ]
          },
          "metadata": {
            "tags": []
          },
          "execution_count": 75
        }
      ]
    },
    {
      "cell_type": "code",
      "metadata": {
        "id": "_XjdlC8fgMnb",
        "colab_type": "code",
        "colab": {}
      },
      "source": [
        ""
      ],
      "execution_count": null,
      "outputs": []
    }
  ]
}